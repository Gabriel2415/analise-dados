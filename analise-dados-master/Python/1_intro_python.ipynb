{
  "nbformat": 4,
  "nbformat_minor": 0,
  "metadata": {
    "kernelspec": {
      "display_name": "Python 3",
      "language": "python",
      "name": "python3"
    },
    "language_info": {
      "codemirror_mode": {
        "name": "ipython",
        "version": 3
      },
      "file_extension": ".py",
      "mimetype": "text/x-python",
      "name": "python",
      "nbconvert_exporter": "python",
      "pygments_lexer": "ipython3",
      "version": "3.7.4"
    },
    "colab": {
      "name": "1_intro_python.ipynb",
      "provenance": []
    }
  },
  "cells": [
    {
      "cell_type": "markdown",
      "metadata": {
        "id": "BGSuz5b_w3VH",
        "colab_type": "text"
      },
      "source": [
        "# Bem-Vindo ao Mundo Python!"
      ]
    },
    {
      "cell_type": "markdown",
      "metadata": {
        "id": "6pzBa6DLw3VL",
        "colab_type": "text"
      },
      "source": [
        "## Variáveis e Tipos\n",
        "* Variáveis são **Locais de Memória**;\n",
        "* Os nomes de variáveis devem ser **mnemônicos**, ou seja, de **fácil memorização**;\n",
        "* Variáveis em Python são **\"Case-sensitive\"** e devem escritas com letras minúsculas, sem qualquer tipo de acentuação gráfica;\n",
        "* Nomes compostos de variáveis devem ser separados por subtraço, por exemplo: nome_variavel_composta;\n",
        "* Python é uma linguagem *dinamicamente tipada*, logo, não informamos o tipo de dados durante a declaração de cada variável;\n",
        "\n",
        "### Tipos de Dados Padrão\n",
        "Os tipos de dados primitivos do Python podem ser classificados como: numéricos, sequências, conjuntos e mapeamentos.\n",
        "\n",
        "*Tipos Numéricos*\n",
        "\n",
        "| Nome    | Descrição                    |  Versão               |\n",
        "|:--------|:-----------------------------|:----------------------|\n",
        "| int     | Números Inteiros             | Todas                 |\n",
        "| long    | Números inteiros Longos      | Python 2.x (Somente)  |\n",
        "| float   | Números de Ponto Flutuante   | Todas                 |\n",
        "| complex | Números Complexos            | Todas                 |\n",
        "\n",
        "*Sequências*\n",
        "\n",
        "| Nome         | Descrição                                                  |  Versão               |\n",
        "|:-------------|:-----------------------------------------------------------|:----------------------|\n",
        "| str          | Cadeia de Caracteres (String)                              | Todas                 |\n",
        "| bytes        | Sequência de números inteiros no intervalo de 0 a 255      | Python 3.x (Somente)  |\n",
        "| byte array   | Semelhante ao tipo bytes, porém, mutáveis                  | Python 3.x (Somente)  |\n",
        "| list         | Lista de itens geralmente homogêneos e mutáveis            | Todas                 |\n",
        "| tuple        | Sequência de itens heterogêneos e imutáveis                | Todas                 |\n",
        "\n",
        "*Conjuntos*\n",
        "\n",
        "| Nome       | Descrição                               |  Versão                |\n",
        "|:-----------|:----------------------------------------|:-----------------------|\n",
        "| set        | coleção não ordenada de objetos únicos  | Python 2.6 ou Superior |\n",
        "| frozen set | Semelhante ao tipo set, porém, imutável | Python 2.6 ou Superior |\n",
        "\n",
        "*Mapeamentos*\n",
        "\n",
        "| Nome       | Descrição                               |  Versão                |\n",
        "|:-----------|:----------------------------------------|:-----------------------|\n",
        "| dict       | Dicionários ou Array Associativos       | Todas                  |\n",
        "\n",
        "\n",
        "#### Objetos Mutáveis X Objetos Imutáveis\n",
        "De modo geral, os tipos de dados em Python podem ser diferenciados como mutáveis e imutáveis.\n",
        "\n",
        "- **Objetos Mutáveis:** o conteúdo pode ser alterado após sua criação;\n",
        "- **Objetos Imutáveis:** o conteúdo **não pode ser alterado** após sua criação;\n",
        "\n",
        "| Tipos Mutáveis       | Tipos Imutáveis                         |\n",
        "|:---------------------|:----------------------------------------|\n",
        "| array                | int, float, complex                     |\n",
        "| bytearray            | str                                     |\n",
        "| list                 | bytes                                   |\n",
        "| set                  | tuple                                   |\n",
        "| dict                 | frozenset                               |\n",
        "| -                    | bool                                    |"
      ]
    },
    {
      "cell_type": "code",
      "metadata": {
        "id": "6g-8oi5lw3VO",
        "colab_type": "code",
        "colab": {}
      },
      "source": [
        "# CONVERSÃO DE TIPO\n",
        "# Aprendendo Conversão de Tipo Com Exemplos\n",
        "\n",
        "# Números Inteiros\n",
        "valor_int_1 = int(2.7) \n",
        "print(valor_int_1) # Saída: 2   \n",
        "\n",
        "valor_int_2 = int(-3.9)\n",
        "print(valor_int_2) # Saída: -3   \n",
        "\n",
        "valor_int_3 = int(\"2\")\n",
        "print(valor_int_3) # Saída: 2  \n",
        "\n",
        "\n",
        "# Números de Ponto Flutuante\n",
        "valor_float_1 = float(7)\n",
        "print(valor_float_1) # Saída: 7.0\n",
        "\n",
        "valor_float_2 = float(\"4.5\")\n",
        "print(valor_float_2) # Saída: 4.5\n",
        "\n",
        "valor_float_4 = float(\"2.7E-2\")\n",
        "print(valor_float_4) # Saída: 0.027\n",
        "\n",
        "valor_float_5 = float(False)\n",
        "print(valor_float_5) # Saída: 0.0\n",
        "\n",
        "valor_float_6 = float(True)\n",
        "print(valor_float_6) # Saída: 1.0\n",
        "\n",
        "\n",
        "# Cadeia de Caracteres\n",
        "valor_string_1 = str(4.5)\n",
        "print(valor_string_1) # Saída: 4.5\n",
        "\n",
        "valor_string_2 = str([1, 2, 3, 4, 5])\n",
        "print(valor_string_2) # Saída: \"[1, 2, 3, 4, 5]\"\n",
        "\n",
        "\n",
        "# Tipos Lógicos (Booleanos)\n",
        "valor_bool_1 = bool(0)\n",
        "print(valor_bool_1) # Saída: False\n",
        "\n",
        "valor_bool_2 = bool(1)\n",
        "print(valor_bool_2) # Saída: True\n",
        "\n",
        "valor_bool_3 = bool([])\n",
        "print(valor_bool_3) # Saída: False - Lista Vazia\n",
        "\n",
        "valor_bool_4 = bool([False])\n",
        "print(valor_bool_4) # Saída: True - Lista Não Vazia\n",
        "\n",
        "valor_bool_5 = bool({})\n",
        "print(valor_bool_5) # Saída: False - Dicionário Vazio, o mesmo para Tupla\n",
        "\n",
        "valor_bool_6 = bool(\"\")\n",
        "print(valor_bool_6) # Saída: False - String Vazia\n",
        "\n",
        "valor_bool_7 = bool(\" \")\n",
        "print(valor_bool_7) # Saída: True - String Não Vazia\n",
        "\n",
        "valor_bool_8 = bool(None)\n",
        "print(valor_bool_8) # Saída: False\n",
        "\n",
        "valor_bool_9 = bool(len)\n",
        "print(valor_bool_9) # Saída: True\n",
        "\n",
        "# Listas e Conjuntos\n",
        "conjunto = set([1, 2])\n",
        "lista = list(conjunto)\n",
        "print(conjunto) # Saída: {1, 2}\n",
        "print(lista)    # Saída: [1, 2]\n",
        "\n",
        "valor_lista_1 = list({0: \"Python\", 1: \"R\"}) # dict: Lista de chaves\n",
        "print(valor_lista_1) # Saída: [0, 1]\n",
        "\n",
        "tupla = tuple(lista)\n",
        "print(tupla) # Saída: (1, 2)\n",
        "\n",
        "valor_lista_2 = list(\"ABC\")\n",
        "print(valor_lista_2) # Saída: ['A', 'B', 'C']"
      ],
      "execution_count": 0,
      "outputs": []
    },
    {
      "cell_type": "markdown",
      "metadata": {
        "id": "BY9PpRhtw3VT",
        "colab_type": "text"
      },
      "source": [
        "## Exercício 1\n",
        "*Calculando o IMC*\n",
        "\n",
        "O Índice de Massa Corporal (IMC) é uma medida internacional usada para calcular se uma pessoa está em seu peso ideal.\n",
        "O cálculo do IMC é determinado pela divisão da massa do indivíduo em quilogramas pelo quadrado de sua altura em metros.\n",
        "\n",
        "\n",
        "\n",
        "$$IMC=\\frac{massa}{(altura * altura)}$$\n",
        "\n",
        "\n",
        "\n",
        "Escreva um programa que leia do usuário sua altura e peso e calcule o seu IMC.\n"
      ]
    },
    {
      "cell_type": "code",
      "metadata": {
        "id": "HYTfvOj8w3VY",
        "colab_type": "code",
        "colab": {}
      },
      "source": [
        "# TODO: Complete o Código Abaixo\n",
        "altura = input('Altura: ')\n",
        "peso = input('  Peso: ')\n",
        "\n",
        "\n",
        "print(\"   IMC: \")"
      ],
      "execution_count": 0,
      "outputs": []
    },
    {
      "cell_type": "markdown",
      "metadata": {
        "id": "tVD-wkflw3Vb",
        "colab_type": "text"
      },
      "source": [
        "## Operadores\n",
        "\n",
        "*Operadores Numéricos*\n",
        "\n",
        "| Operador | Descrição       |\n",
        "|:---------|:----------------|\n",
        "| +        | Adição          |\n",
        "| -        | Subtração       |\n",
        "| *        | Multiplicação   |\n",
        "| /        | Divisão         |\n",
        "| **       | Expoente        |\n",
        "| %        | Módulo          |\n",
        "| //       | Divisão de Piso |\n",
        "\n",
        "\n",
        "*Operadores de Comparação*\n",
        "\n",
        "| Operador | Descrição       |\n",
        "|:---------|:----------------|\n",
        "| ==       | Igual           |\n",
        "| !=       | Diferente       |\n",
        "| >        | Maior           |\n",
        "| <        | Menor           |\n",
        "| >=       | Maior Igual     |\n",
        "| <=       | Menor Igual     |\n",
        "\n",
        "\n",
        "*Operadores Lógicos*\n",
        "\n",
        "| Operador | Descrição       |\n",
        "|:---------|:----------------|\n",
        "| and      | AND lógico      |\n",
        "| or       | OR lógico       |\n",
        "| not      | NOT lógico      |\n",
        "\n",
        "*Caracteres Especiais*\n",
        "\n",
        "| Operador | Descrição       |\n",
        "|:---------|:----------------|\n",
        "| #        | Comentário      |\n",
        "| \\n       | Nova Linha      |\n"
      ]
    },
    {
      "cell_type": "markdown",
      "metadata": {
        "id": "qBk2b12Mw3Vd",
        "colab_type": "text"
      },
      "source": [
        "## Exercícios"
      ]
    },
    {
      "cell_type": "markdown",
      "metadata": {
        "id": "kTXiQLzEw3Ve",
        "colab_type": "text"
      },
      "source": [
        "1. Escreva um algoritmo que imprima na tela: Olá Mundo!"
      ]
    },
    {
      "cell_type": "code",
      "metadata": {
        "id": "bU3j-u3pw3Vf",
        "colab_type": "code",
        "colab": {
          "base_uri": "https://localhost:8080/",
          "height": 34
        },
        "outputId": "2dac0a9d-6c9c-4952-aa14-027ef0e1cad7"
      },
      "source": [
        "print (\"Olá Mundo!\")"
      ],
      "execution_count": 1,
      "outputs": [
        {
          "output_type": "stream",
          "text": [
            "Olá Mundo!\n"
          ],
          "name": "stdout"
        }
      ]
    },
    {
      "cell_type": "markdown",
      "metadata": {
        "id": "gQ76ctAcw3Vj",
        "colab_type": "text"
      },
      "source": [
        "2. Escreva um programa que imprima seu nome na tela."
      ]
    },
    {
      "cell_type": "code",
      "metadata": {
        "id": "EgX5tBAmw3Vm",
        "colab_type": "code",
        "colab": {
          "base_uri": "https://localhost:8080/",
          "height": 34
        },
        "outputId": "e81f698c-ea2b-4814-c4ef-167a459fd9fc"
      },
      "source": [
        "print (\"Gabriel Carvalho\")"
      ],
      "execution_count": 3,
      "outputs": [
        {
          "output_type": "stream",
          "text": [
            "Gabriel Carvalho\n"
          ],
          "name": "stdout"
        }
      ]
    },
    {
      "cell_type": "markdown",
      "metadata": {
        "id": "7I1IMq5ww3Vq",
        "colab_type": "text"
      },
      "source": [
        "3. O que o código a seguir imprime?\n",
        "\n",
        "```python\n",
        "print(\"*\\n**\\n***\\n****\\n*****\")\n",
        "```"
      ]
    },
    {
      "cell_type": "code",
      "metadata": {
        "id": "NpcokhYVw3Vr",
        "colab_type": "code",
        "colab": {
          "base_uri": "https://localhost:8080/",
          "height": 102
        },
        "outputId": "d1c2324b-8bda-4d6b-cc70-3874f12c3417"
      },
      "source": [
        "print(\"*\\n**\\n***\\n****\\n*****\")"
      ],
      "execution_count": 4,
      "outputs": [
        {
          "output_type": "stream",
          "text": [
            "*\n",
            "**\n",
            "***\n",
            "****\n",
            "*****\n"
          ],
          "name": "stdout"
        }
      ]
    },
    {
      "cell_type": "markdown",
      "metadata": {
        "id": "3Lwx-ttnw3Vu",
        "colab_type": "text"
      },
      "source": [
        "4. O que aparece na janela do console, quando cada uma das instruções abaixo são executadas, para: x = 2 e y = 3? Execute cada uma das linhas abaixos e, se necessário, faça os devidos ajustes no código.\n",
        "    1. *print(“x = ” + x);*\n",
        "    2. *print(“O valor de x + x é ” + (x + x));*\n",
        "    3. *print(“x = ”);*\n",
        "    4. *print((x + y) + “ = “ + (y + x));*\n"
      ]
    },
    {
      "cell_type": "code",
      "metadata": {
        "id": "-xEXG9p6w3Vv",
        "colab_type": "code",
        "colab": {
          "base_uri": "https://localhost:8080/",
          "height": 85
        },
        "outputId": "84642d46-7e26-468f-86e5-979c33feeb4c"
      },
      "source": [
        "x=2\n",
        "y=3\n",
        "print(\"x =\" , x);\n",
        "print(\"O valor de x + x é\"  ,(x + x));\n",
        "print(\"x = \");\n",
        "print((x + y) ,\" = \" ,(y + x));"
      ],
      "execution_count": 9,
      "outputs": [
        {
          "output_type": "stream",
          "text": [
            "x = 2\n",
            "O valor de x + x é 4\n",
            "x = \n",
            "5  =  5\n"
          ],
          "name": "stdout"
        }
      ]
    },
    {
      "cell_type": "markdown",
      "metadata": {
        "id": "vQZrBqNGw3Vy",
        "colab_type": "text"
      },
      "source": [
        "5. Escreva um algoritmo que imprima na tela a seguinte mensagem:\n",
        "\n",
        "> A programação é aprendida escrevendo programas - \n",
        "> Brian Kernighan\n"
      ]
    },
    {
      "cell_type": "code",
      "metadata": {
        "id": "BhIyqGRqw3Vz",
        "colab_type": "code",
        "colab": {
          "base_uri": "https://localhost:8080/",
          "height": 34
        },
        "outputId": "a56aabf1-3a3e-4d2b-cf08-b2b8470c4834"
      },
      "source": [
        "print (\"A programação é aprendida escrevendo programas - Brian Kernighan\")"
      ],
      "execution_count": 10,
      "outputs": [
        {
          "output_type": "stream",
          "text": [
            "A programação é aprendida escrevendo programas - Brian Kernighan\n"
          ],
          "name": "stdout"
        }
      ]
    },
    {
      "cell_type": "markdown",
      "metadata": {
        "id": "dr-Da-fhw3V4",
        "colab_type": "text"
      },
      "source": [
        "6. Crie um algoritmo que imprima o produto entre os números 25 e 27"
      ]
    },
    {
      "cell_type": "code",
      "metadata": {
        "id": "tVpTRkpow3V5",
        "colab_type": "code",
        "colab": {
          "base_uri": "https://localhost:8080/",
          "height": 34
        },
        "outputId": "cb88d671-1b7d-41c2-f3f2-37aeadb82423"
      },
      "source": [
        "25*27"
      ],
      "execution_count": 12,
      "outputs": [
        {
          "output_type": "execute_result",
          "data": {
            "text/plain": [
              "675"
            ]
          },
          "metadata": {
            "tags": []
          },
          "execution_count": 12
        }
      ]
    },
    {
      "cell_type": "markdown",
      "metadata": {
        "id": "A33-TpU_w3V8",
        "colab_type": "text"
      },
      "source": [
        "7. Crie um algoritmo que imprima a média aritmética entre os números 4, 12, 15."
      ]
    },
    {
      "cell_type": "code",
      "metadata": {
        "id": "TcNeyiZtw3V9",
        "colab_type": "code",
        "colab": {
          "base_uri": "https://localhost:8080/",
          "height": 34
        },
        "outputId": "1d8760e1-0322-44d7-d999-d912d574f001"
      },
      "source": [
        "x= 4+12+15 \n",
        "print (\"A media é\" , (x/3))"
      ],
      "execution_count": 13,
      "outputs": [
        {
          "output_type": "stream",
          "text": [
            "A media é 10.333333333333334\n"
          ],
          "name": "stdout"
        }
      ]
    },
    {
      "cell_type": "markdown",
      "metadata": {
        "id": "geqUPIn1w3V_",
        "colab_type": "text"
      },
      "source": [
        "8. Faça um programa que leia um número inteiro e mostre-o na tela da seguinte forma: \n",
        "\n",
        "> O número inteiro digitado foi 4."
      ]
    },
    {
      "cell_type": "code",
      "metadata": {
        "id": "rm4QoaFUw3WA",
        "colab_type": "code",
        "colab": {}
      },
      "source": [
        "n = int(input(\"O número inteiro digitado foi:\"));"
      ],
      "execution_count": 0,
      "outputs": []
    },
    {
      "cell_type": "markdown",
      "metadata": {
        "id": "sSNw2nJdw3WD",
        "colab_type": "text"
      },
      "source": [
        "9. Faça um programa que leia e imprima dois números inteiros na tela."
      ]
    },
    {
      "cell_type": "code",
      "metadata": {
        "id": "hkQCiJMjw3WE",
        "colab_type": "code",
        "colab": {
          "base_uri": "https://localhost:8080/",
          "height": 51
        },
        "outputId": "8277c41c-8068-4a01-cb86-f77d4e93e779"
      },
      "source": [
        "n = int(input(\"O número inteiro digitado foi:\"));\n",
        "print(n)"
      ],
      "execution_count": 14,
      "outputs": [
        {
          "output_type": "stream",
          "text": [
            "O número inteiro digitado foi:5\n",
            "5\n"
          ],
          "name": "stdout"
        }
      ]
    },
    {
      "cell_type": "markdown",
      "metadata": {
        "id": "9_FD1udXw3WK",
        "colab_type": "text"
      },
      "source": [
        "10. Faça um programa que leia um número inteiro e imprima seu número sucessor e antecessor."
      ]
    },
    {
      "cell_type": "code",
      "metadata": {
        "id": "yiVdoy5gw3WL",
        "colab_type": "code",
        "colab": {
          "base_uri": "https://localhost:8080/",
          "height": 51
        },
        "outputId": "c55c62e9-4433-47dd-b27c-bd3b4fba7c30"
      },
      "source": [
        "n = int(input(\"Digite o numero:\"));\n",
        "print((n-1) , (n+1))"
      ],
      "execution_count": 20,
      "outputs": [
        {
          "output_type": "stream",
          "text": [
            "Digite o numero:10\n",
            "9 11\n"
          ],
          "name": "stdout"
        }
      ]
    },
    {
      "cell_type": "markdown",
      "metadata": {
        "id": "f8BrWtmNw3WO",
        "colab_type": "text"
      },
      "source": [
        "11. Faça um programa que leia o nome, endereço e telefone de um usuário e imprima na tela."
      ]
    },
    {
      "cell_type": "code",
      "metadata": {
        "id": "7_39zL_ow3WP",
        "colab_type": "code",
        "colab": {
          "base_uri": "https://localhost:8080/",
          "height": 119
        },
        "outputId": "c05e0ef7-182f-462b-d854-fb8dc5a91dee"
      },
      "source": [
        "n = input(\"Nome:\");\n",
        "e = input(\"Endereço:\");\n",
        "t = input(\"Telefone:\");\n",
        "\n",
        "print(\"Nome:\"  ,n );\n",
        "print(\"Endereço:\" ,e );\n",
        "print(\"Telefone:\",t );"
      ],
      "execution_count": 26,
      "outputs": [
        {
          "output_type": "stream",
          "text": [
            "Nome:2\n",
            "Endereço:\n",
            "Telefone:\n",
            "Nome: 2\n",
            "Endereço: \n",
            "Telefone: \n"
          ],
          "name": "stdout"
        }
      ]
    },
    {
      "cell_type": "markdown",
      "metadata": {
        "id": "dQcUvtFPw3WT",
        "colab_type": "text"
      },
      "source": [
        "12. Faça um programa que leia e multiplique dois números inteiros."
      ]
    },
    {
      "cell_type": "code",
      "metadata": {
        "id": "_SIl8EKrw3WU",
        "colab_type": "code",
        "colab": {
          "base_uri": "https://localhost:8080/",
          "height": 68
        },
        "outputId": "38714b38-0238-486c-e212-80cb2ad8a710"
      },
      "source": [
        "x = int(input(\"Digite o numero:\"));\n",
        "y = int(input(\"Digite o numero:\"));\n",
        "\n",
        "print(\"A multiplicação de seus valores são:\" ,x*y)"
      ],
      "execution_count": 29,
      "outputs": [
        {
          "output_type": "stream",
          "text": [
            "Digite o numero:2\n",
            "Digite o numero:2\n",
            "A multiplicação de seus valores são: 4\n"
          ],
          "name": "stdout"
        }
      ]
    },
    {
      "cell_type": "markdown",
      "metadata": {
        "id": "KVgJz1XNw3WZ",
        "colab_type": "text"
      },
      "source": [
        "13. Faça um programa que leia um número real e imprima a terça parte deste número."
      ]
    },
    {
      "cell_type": "code",
      "metadata": {
        "id": "2KI_MZCCw3Wa",
        "colab_type": "code",
        "colab": {
          "base_uri": "https://localhost:8080/",
          "height": 51
        },
        "outputId": "cd7539e4-ea8a-4ff1-9646-dd74a8788dd9"
      },
      "source": [
        "x = int(input(\"Digite o numero:\"));\n",
        "print(\"A terça parte do seu nomero é:\", x/3 )"
      ],
      "execution_count": 31,
      "outputs": [
        {
          "output_type": "stream",
          "text": [
            "Digite o numero:2\n",
            "A terça parte do seu nomero é: 0.6666666666666666\n"
          ],
          "name": "stdout"
        }
      ]
    },
    {
      "cell_type": "markdown",
      "metadata": {
        "id": "2QU0JwEWw3We",
        "colab_type": "text"
      },
      "source": [
        "14. Faça um programa que leia dois números inteiros e imprima o dividendo, divisor, quociente e resto da divisão"
      ]
    },
    {
      "cell_type": "code",
      "metadata": {
        "id": "vysnFuOTw3Wf",
        "colab_type": "code",
        "colab": {
          "base_uri": "https://localhost:8080/",
          "height": 119
        },
        "outputId": "34438aa3-5a50-403c-977a-7d3c27f4886e"
      },
      "source": [
        "x = int(input(\"Digite o numero:\"));\n",
        "y = int(input(\"Digite o numero:\"));\n",
        "\n",
        "print(\"Dividendo é:\" , x  )\n",
        "print(\"Divisor é:\" , y) \n",
        "print(\"Quociente é:\" , x/y )\n",
        "print(\"Resto é:\", x%y)"
      ],
      "execution_count": 33,
      "outputs": [
        {
          "output_type": "stream",
          "text": [
            "Digite o numero:21\n",
            "Digite o numero:8\n",
            "Dividendo é: 21\n",
            "Divisor é: 8\n",
            "Quociente é: 2.625\n",
            "Resto é: 5\n"
          ],
          "name": "stdout"
        }
      ]
    },
    {
      "cell_type": "markdown",
      "metadata": {
        "id": "eW6LSQqVw3Wi",
        "colab_type": "text"
      },
      "source": [
        "15. Escreva um programa que solicite do usuário dois números, e imprima o resultado da soma, subtração, multiplicação e divisão."
      ]
    },
    {
      "cell_type": "code",
      "metadata": {
        "id": "etrNwm7dw3Wk",
        "colab_type": "code",
        "colab": {
          "base_uri": "https://localhost:8080/",
          "height": 119
        },
        "outputId": "4878a06d-6c51-49f0-ce89-a98133f5b63b"
      },
      "source": [
        "x = int(input(\"Digite o numero:\"));\n",
        "y = int(input(\"Digite o numero:\"));\n",
        "\n",
        "print(\"A soma é:\" , x+y  )\n",
        "print(\"Subtração é:\" , x-y) \n",
        "print(\"Multiplicaçãoo é:\" , x*y )\n",
        "print(\"Divisão é:\", x/y)\n"
      ],
      "execution_count": 35,
      "outputs": [
        {
          "output_type": "stream",
          "text": [
            "Digite o numero:8\n",
            "Digite o numero:8\n",
            "A soma é: 16\n",
            "Subtração é: 0\n",
            "Multiplicaçãoo é: 64\n",
            "Divisão é: 1.0\n"
          ],
          "name": "stdout"
        }
      ]
    },
    {
      "cell_type": "markdown",
      "metadata": {
        "id": "X9tYKpKzw3Wp",
        "colab_type": "text"
      },
      "source": [
        "16. Faça um programa que leia quatro números inteiros, calcule e mostre a soma desses números."
      ]
    },
    {
      "cell_type": "code",
      "metadata": {
        "id": "AwlD6pSEw3Wr",
        "colab_type": "code",
        "colab": {
          "base_uri": "https://localhost:8080/",
          "height": 102
        },
        "outputId": "ac610e03-1249-40a7-f558-8e3de6ef2e32"
      },
      "source": [
        "x = int(input(\"Digite o numero:\"));\n",
        "y = int(input(\"Digite o numero:\"));\n",
        "x1 = int(input(\"Digite o numero:\"));\n",
        "y1= int(input(\"Digite o numero:\"));\n",
        "\n",
        "print(\"A Soma é:\", x+y+x1+y1)"
      ],
      "execution_count": 38,
      "outputs": [
        {
          "output_type": "stream",
          "text": [
            "Digite o numero:1\n",
            "Digite o numero:1\n",
            "Digite o numero:1\n",
            "Digite o numero:1\n",
            "A Soma é: 4\n"
          ],
          "name": "stdout"
        }
      ]
    },
    {
      "cell_type": "markdown",
      "metadata": {
        "id": "9zAtFYqNw3Wu",
        "colab_type": "text"
      },
      "source": [
        "17. Faça um programa que receba três notas, calcule e mostre a média aritmética."
      ]
    },
    {
      "cell_type": "code",
      "metadata": {
        "id": "QcYZiNwZw3Wu",
        "colab_type": "code",
        "colab": {
          "base_uri": "https://localhost:8080/",
          "height": 85
        },
        "outputId": "fe6e70f8-a405-4f0a-ed45-3db718abd029"
      },
      "source": [
        "x = int(input(\"Digite a nota:\"));\n",
        "y = int(input(\"Digite a nota:\"));\n",
        "z = int(input(\"Digite a nota:\"));\n",
        "m = x+y+z\n",
        "print(\"A media é;\", m/3 )"
      ],
      "execution_count": 39,
      "outputs": [
        {
          "output_type": "stream",
          "text": [
            "Digite a nota:18\n",
            "Digite a nota:18\n",
            "Digite a nota:18\n",
            "A media é; 18.0\n"
          ],
          "name": "stdout"
        }
      ]
    },
    {
      "cell_type": "markdown",
      "metadata": {
        "id": "xprrS2Lfw3Wz",
        "colab_type": "text"
      },
      "source": [
        "18. Faça um programa que receba três notas e seus respectivos pesos, calcule e mostre a média ponderada."
      ]
    },
    {
      "cell_type": "code",
      "metadata": {
        "id": "7bPJlGoYw3Wz",
        "colab_type": "code",
        "colab": {
          "base_uri": "https://localhost:8080/",
          "height": 136
        },
        "outputId": "92d42241-c978-4d0e-c3a3-8054d9fbb1ee"
      },
      "source": [
        "n1 = float(input(\"Digite a nota:\"));\n",
        "n2 = float(input(\"Digite a nota:\"));\n",
        "n3 = float(input(\"Digite a nota:\"));\n",
        "\n",
        "p1 = int(input(\"Digite a Peso:\"));\n",
        "p2 = int(input(\"Digite a Peso:\"));\n",
        "p3 = int(input(\"Digite a Peso:\"));\n",
        "\n",
        "x = n1*p1\n",
        "y = n2*p2\n",
        "z = n3*p3\n",
        "\n",
        "l = x+y+z\n",
        "\n",
        "m = p1+p2+p3\n",
        "\n",
        "print(\"A média ponderada é:\", l/m )\n",
        "\n",
        "\n"
      ],
      "execution_count": 42,
      "outputs": [
        {
          "output_type": "stream",
          "text": [
            "Digite a nota:10\n",
            "Digite a nota:0\n",
            "Digite a nota:10\n",
            "Digite a Peso:8\n",
            "Digite a Peso:5\n",
            "Digite a Peso:2\n",
            "A média ponderada é: 6.666666666666667\n"
          ],
          "name": "stdout"
        }
      ]
    },
    {
      "cell_type": "markdown",
      "metadata": {
        "id": "4TlArQYGw3W2",
        "colab_type": "text"
      },
      "source": [
        "19. Faça um programa que receba o salário de um funcionário, calcule e mostre o novo salário, sabendo-se que este sofreu um aumento de 25%."
      ]
    },
    {
      "cell_type": "code",
      "metadata": {
        "id": "75_vYLGhw3W3",
        "colab_type": "code",
        "colab": {
          "base_uri": "https://localhost:8080/",
          "height": 51
        },
        "outputId": "3ae7226c-1547-4d20-e4c8-2ec2cf5edee8"
      },
      "source": [
        "n1 = float(input(\"Salário:\"));\n",
        "\n",
        "print(\"o novo salário é:\", n1*1.25)"
      ],
      "execution_count": 43,
      "outputs": [
        {
          "output_type": "stream",
          "text": [
            "Salário:1000\n",
            "o novo salário é: 1250.0\n"
          ],
          "name": "stdout"
        }
      ]
    },
    {
      "cell_type": "markdown",
      "metadata": {
        "id": "Dtn6RKNFw3W7",
        "colab_type": "text"
      },
      "source": [
        "20. Faça um programa que receba o salário de um funcionário e o percentual de aumento, calcule e mostre o valor do aumento e o novo salário. "
      ]
    },
    {
      "cell_type": "code",
      "metadata": {
        "id": "OIfOEZiaw3W8",
        "colab_type": "code",
        "colab": {
          "base_uri": "https://localhost:8080/",
          "height": 68
        },
        "outputId": "2edc79f1-7193-4b04-a715-c254366df515"
      },
      "source": [
        "s = float(input(\"Salário:\"));\n",
        "p = float(input(\"percentual:\"));\n",
        "\n",
        "pe = p/100\n",
        "a = s*pe\n",
        "\n",
        "print(\"O valor do Aumento foi:\", a , \"O Novo salário é:\", s + a )"
      ],
      "execution_count": 46,
      "outputs": [
        {
          "output_type": "stream",
          "text": [
            "Salário:1000\n",
            "percentual:25\n",
            "O valor do Aumento foi: 250.0 O Novo salário é: 1250.0\n"
          ],
          "name": "stdout"
        }
      ]
    },
    {
      "cell_type": "markdown",
      "metadata": {
        "id": "A4WBnCNQw3W_",
        "colab_type": "text"
      },
      "source": [
        "21. Faça um programa que receba o salário base de um funcionário, calcule e mostre o salário a receber, sabendo-se que o funcionário tem gratificação de 5% sobre o salário base e paga imposto de 7% também sobre o salário base."
      ]
    },
    {
      "cell_type": "code",
      "metadata": {
        "id": "4dNOsIG8w3XA",
        "colab_type": "code",
        "colab": {
          "base_uri": "https://localhost:8080/",
          "height": 51
        },
        "outputId": "24600a4a-02af-45e5-f877-f1185266a7ce"
      },
      "source": [
        "s = float(input(\"Salário:\"));\n",
        "\n",
        "g = s*0.05\n",
        "i = s*0.07\n",
        "\n",
        "sb = s+g-i\n",
        "\n",
        "print(\"O salário base é :\", sb)\n"
      ],
      "execution_count": 49,
      "outputs": [
        {
          "output_type": "stream",
          "text": [
            "Salário:1000\n",
            "O salário base é : 980.0\n"
          ],
          "name": "stdout"
        }
      ]
    },
    {
      "cell_type": "markdown",
      "metadata": {
        "id": "rzJR5nnMw3XC",
        "colab_type": "text"
      },
      "source": [
        "22. Faça um programa que receba o salário base de um funcionário, calcule e mostre seu salário a receber, sabendo-se que o funcionário tem gratificação de R$ 50,00 e paga imposto de 10% sobre o salário base."
      ]
    },
    {
      "cell_type": "code",
      "metadata": {
        "id": "vEubrR9Nw3XD",
        "colab_type": "code",
        "colab": {
          "base_uri": "https://localhost:8080/",
          "height": 51
        },
        "outputId": "d7666ad7-346e-4511-ea99-203464407253"
      },
      "source": [
        "s = float(input(\"Salário base:\"));\n",
        "\n",
        "i = s*0.1\n",
        "sr = s-i+50\n",
        "\n",
        "print(\"O salário a receber é:\", sr)"
      ],
      "execution_count": 50,
      "outputs": [
        {
          "output_type": "stream",
          "text": [
            "Salário base:1000\n",
            "O salário a receber é: 950.0\n"
          ],
          "name": "stdout"
        }
      ]
    },
    {
      "cell_type": "markdown",
      "metadata": {
        "id": "SnZts1Rjw3XG",
        "colab_type": "text"
      },
      "source": [
        "23. Faça um programa que receba o valor de um depósito e o valor da taxa de juros, calcule e mostre o valor do rendimento e o valor total depois do rendimento."
      ]
    },
    {
      "cell_type": "code",
      "metadata": {
        "id": "xcsFsTJHw3XI",
        "colab_type": "code",
        "colab": {
          "base_uri": "https://localhost:8080/",
          "height": 68
        },
        "outputId": "24b13f14-0faa-44f9-d5c4-393db4619166"
      },
      "source": [
        "d = float(input(\"Deposito:\"));\n",
        "j = float(input(\"Taxa de Juros:\"));\n",
        "\n",
        "jr = j/100\n",
        "vr = d*jr\n",
        "tv = d+vr\n",
        "\n",
        "print(\"O valor do rendimento é:\", vr ,\"O valor total após o rendimento é:\", tv )"
      ],
      "execution_count": 52,
      "outputs": [
        {
          "output_type": "stream",
          "text": [
            "Deposito:1000\n",
            "Taxa de Juros:25\n",
            "O valor do rendimento é: 250.0 O valor total após o rendimento é: 1250.0\n"
          ],
          "name": "stdout"
        }
      ]
    },
    {
      "cell_type": "markdown",
      "metadata": {
        "id": "oHmpsKG7w3XM",
        "colab_type": "text"
      },
      "source": [
        "24. Faça um programa que calcule e mostre a área de um triângulo. Sabe-se que: \n",
        "> Área = (base * altura) / 2."
      ]
    },
    {
      "cell_type": "code",
      "metadata": {
        "id": "ra50qEAcw3XO",
        "colab_type": "code",
        "colab": {
          "base_uri": "https://localhost:8080/",
          "height": 68
        },
        "outputId": "57a1c2a0-1441-4f76-f52a-2acb7712132a"
      },
      "source": [
        "b = float(input(\"Base:\"));\n",
        "a = float(input(\"Altura:\"));\n",
        "\n",
        "area = (b*a)/2\n",
        "\n",
        "print(\"Área:\", area )"
      ],
      "execution_count": 53,
      "outputs": [
        {
          "output_type": "stream",
          "text": [
            "Base:10\n",
            "Altura:2\n",
            "Área: 10.0\n"
          ],
          "name": "stdout"
        }
      ]
    },
    {
      "cell_type": "markdown",
      "metadata": {
        "id": "23oB5i3Uw3XQ",
        "colab_type": "text"
      },
      "source": [
        "25. Escreva um programa que receba como entrada o raio de um círculo e imprima o diâmetro, a circunferência e a área. Para isso, utilize as fórmulas: diâmetro = 2r; circunferência = 2πr, área = πr²."
      ]
    },
    {
      "cell_type": "code",
      "metadata": {
        "id": "AK20iXO6w3XR",
        "colab_type": "code",
        "colab": {
          "base_uri": "https://localhost:8080/",
          "height": 51
        },
        "outputId": "7fe5072a-882c-4800-f715-f94e02153eac"
      },
      "source": [
        "r = float(input(\"Raio:\"));\n",
        "d = 2*r\n",
        "\n",
        "print(\"O diâmetro é:\", d )"
      ],
      "execution_count": 55,
      "outputs": [
        {
          "output_type": "stream",
          "text": [
            "Raio:10\n",
            "O diâmetro é: 20.0\n"
          ],
          "name": "stdout"
        }
      ]
    },
    {
      "cell_type": "markdown",
      "metadata": {
        "id": "78-Rm3paw3XT",
        "colab_type": "text"
      },
      "source": [
        "26. Faça um programa que receba um número positivo e maior que zero, calcule e mostre:\n",
        "    1. o número digitado ao quadrado;\n",
        "    2. o número digitado ao cubo;\n",
        "    3. a raiz quadrada do número digitado.\n"
      ]
    },
    {
      "cell_type": "code",
      "metadata": {
        "id": "_GEjLQ7Jw3XU",
        "colab_type": "code",
        "colab": {
          "base_uri": "https://localhost:8080/",
          "height": 85
        },
        "outputId": "7ad475bb-9c23-4cba-b8de-524b60b70bc3"
      },
      "source": [
        "n = float(input(\"Numero :\" ));\n",
        "\n",
        "print(\"o número digitado ao quadrado:\", n**2 )\n",
        "print(\"o número digitado ao cubo:\", n**3)\n",
        "print(\"a raiz quadrada do número digitado:\", n**0.5)"
      ],
      "execution_count": 58,
      "outputs": [
        {
          "output_type": "stream",
          "text": [
            "Numero :4\n",
            "o número digitado ao quadrado: 16.0\n",
            "o número digitado ao cubo: 64.0\n",
            "a raiz quadrada do número digitado: 2.0\n"
          ],
          "name": "stdout"
        }
      ]
    },
    {
      "cell_type": "markdown",
      "metadata": {
        "id": "Q28lLnTfw3XW",
        "colab_type": "text"
      },
      "source": [
        "27. Faça um programa que receba dois números maiores que zero, calcule e mostre um elevado ao outro."
      ]
    },
    {
      "cell_type": "code",
      "metadata": {
        "id": "s49g24oGw3XX",
        "colab_type": "code",
        "colab": {
          "base_uri": "https://localhost:8080/",
          "height": 68
        },
        "outputId": "390e717b-7f76-4cc9-af83-2af71d524277"
      },
      "source": [
        "n = float(input(\"Numero :\" ));\n",
        "n1 = float(input(\"Numero :\" ));\n",
        "\n",
        "print( n**n1 )"
      ],
      "execution_count": 59,
      "outputs": [
        {
          "output_type": "stream",
          "text": [
            "Numero :2\n",
            "Numero :3\n",
            "8.0\n"
          ],
          "name": "stdout"
        }
      ]
    },
    {
      "cell_type": "markdown",
      "metadata": {
        "id": "HYiIOqIAw3Xc",
        "colab_type": "text"
      },
      "source": [
        "28. Sabe-se que: pé = 12 polegadas; 1 jarda = 3 pés e 1 milha = 1,760 jarda. Faça um programa que receba uma medida em pés, faça as conversões a seguir e mostre os resultados.\n",
        "    1. polegadas;\n",
        "    2. jardas;\n",
        "    3. milhas.\n"
      ]
    },
    {
      "cell_type": "code",
      "metadata": {
        "id": "k4sC1exWw3Xd",
        "colab_type": "code",
        "colab": {
          "base_uri": "https://localhost:8080/",
          "height": 85
        },
        "outputId": "acb05a5d-d8cf-4fde-9cd3-9f2f88a1aba7"
      },
      "source": [
        "n = float(input(\"pé :\" ));\n",
        "p = n*12\n",
        "j = n/3\n",
        "m = j/1760\n",
        "\n",
        "print(\"polegadas:\", p )\n",
        "print(\"jardas:\", j)\n",
        "print(\"milhas:\", m )\n"
      ],
      "execution_count": 61,
      "outputs": [
        {
          "output_type": "stream",
          "text": [
            "pé :10\n",
            "polegadas: 120.0\n",
            "jardas: 3.3333333333333335\n",
            "milhas: 0.001893939393939394\n"
          ],
          "name": "stdout"
        }
      ]
    },
    {
      "cell_type": "markdown",
      "metadata": {
        "id": "EjPh_psJw3Xf",
        "colab_type": "text"
      },
      "source": [
        "29. Escreva um programa que receba como entrada um número de 5 dígitos, separe o número em dígitos individuais e os imprima separados por 3 espaços cada um. Por exemplo, se o usuário digitar 42339, o programa deverá imprimir: 4    2    3    3.   Dica: utilize as operações de divisão e módulo para extrair cada dígito do número."
      ]
    },
    {
      "cell_type": "code",
      "metadata": {
        "id": "QoRt6chow3Xg",
        "colab_type": "code",
        "colab": {
          "base_uri": "https://localhost:8080/",
          "height": 51
        },
        "outputId": "6a3d6150-3317-4a24-f43e-4884ea1adb31"
      },
      "source": [
        "n = int(input(\" Digite um número de 5 dígitos:\" ))\n",
        "num = str(n)\n",
        "print(num[0],\"   \",num[1],\"   \",num[2],\"   \",num[3],\"   \",num[4])"
      ],
      "execution_count": 64,
      "outputs": [
        {
          "output_type": "stream",
          "text": [
            " Digite um número de 5 dígitos:11111\n",
            "1     1     1     1     1\n"
          ],
          "name": "stdout"
        }
      ]
    }
  ]
}